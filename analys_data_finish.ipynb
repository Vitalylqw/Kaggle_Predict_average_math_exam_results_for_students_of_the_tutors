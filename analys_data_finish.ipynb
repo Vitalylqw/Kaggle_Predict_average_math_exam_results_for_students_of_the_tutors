{
 "cells": [
  {
   "cell_type": "code",
   "execution_count": 1,
   "metadata": {},
   "outputs": [],
   "source": [
    "import numpy as np\n",
    "import pandas as pd\n",
    "from sklearn.model_selection import train_test_split\n",
    "import matplotlib.pyplot as plt\n",
    "import seaborn as sns"
   ]
  },
  {
   "cell_type": "code",
   "execution_count": 2,
   "metadata": {},
   "outputs": [],
   "source": [
    "TRAIN = 'train.csv'\n",
    "TEST = 'test.csv'\n",
    "df_correct_file = 'df_correct.csv'\n"
   ]
  },
  {
   "cell_type": "code",
   "execution_count": 3,
   "metadata": {},
   "outputs": [],
   "source": [
    "df = pd.read_csv(TRAIN)\n",
    "test = pd.read_csv(TEST)"
   ]
  },
  {
   "cell_type": "code",
   "execution_count": 4,
   "metadata": {},
   "outputs": [
    {
     "name": "stdout",
     "output_type": "stream",
     "text": [
      "<class 'pandas.core.frame.DataFrame'>\n",
      "RangeIndex: 10000 entries, 0 to 9999\n",
      "Data columns (total 12 columns):\n",
      " #   Column               Non-Null Count  Dtype  \n",
      "---  ------               --------------  -----  \n",
      " 0   Id                   10000 non-null  int64  \n",
      " 1   age                  10000 non-null  float64\n",
      " 2   years_of_experience  10000 non-null  float64\n",
      " 3   lesson_price         10000 non-null  float64\n",
      " 4   qualification        10000 non-null  float64\n",
      " 5   physics              10000 non-null  float64\n",
      " 6   chemistry            10000 non-null  float64\n",
      " 7   biology              10000 non-null  float64\n",
      " 8   english              10000 non-null  float64\n",
      " 9   geography            10000 non-null  float64\n",
      " 10  history              10000 non-null  float64\n",
      " 11  mean_exam_points     10000 non-null  float64\n",
      "dtypes: float64(11), int64(1)\n",
      "memory usage: 937.6 KB\n"
     ]
    }
   ],
   "source": [
    "df.info()"
   ]
  },
  {
   "cell_type": "code",
   "execution_count": 5,
   "metadata": {},
   "outputs": [
    {
     "data": {
      "text/html": [
       "<div>\n",
       "<style scoped>\n",
       "    .dataframe tbody tr th:only-of-type {\n",
       "        vertical-align: middle;\n",
       "    }\n",
       "\n",
       "    .dataframe tbody tr th {\n",
       "        vertical-align: top;\n",
       "    }\n",
       "\n",
       "    .dataframe thead th {\n",
       "        text-align: right;\n",
       "    }\n",
       "</style>\n",
       "<table border=\"1\" class=\"dataframe\">\n",
       "  <thead>\n",
       "    <tr style=\"text-align: right;\">\n",
       "      <th></th>\n",
       "      <th>Id</th>\n",
       "      <th>age</th>\n",
       "      <th>years_of_experience</th>\n",
       "      <th>lesson_price</th>\n",
       "      <th>qualification</th>\n",
       "      <th>physics</th>\n",
       "      <th>chemistry</th>\n",
       "      <th>biology</th>\n",
       "      <th>english</th>\n",
       "      <th>geography</th>\n",
       "      <th>history</th>\n",
       "      <th>mean_exam_points</th>\n",
       "    </tr>\n",
       "  </thead>\n",
       "  <tbody>\n",
       "    <tr>\n",
       "      <th>count</th>\n",
       "      <td>10000.00000</td>\n",
       "      <td>10000.000000</td>\n",
       "      <td>10000.000000</td>\n",
       "      <td>10000.000000</td>\n",
       "      <td>10000.000000</td>\n",
       "      <td>10000.000000</td>\n",
       "      <td>10000.000000</td>\n",
       "      <td>10000.000000</td>\n",
       "      <td>10000.000000</td>\n",
       "      <td>10000.000000</td>\n",
       "      <td>10000.000000</td>\n",
       "      <td>10000.000000</td>\n",
       "    </tr>\n",
       "    <tr>\n",
       "      <th>mean</th>\n",
       "      <td>4999.50000</td>\n",
       "      <td>45.878000</td>\n",
       "      <td>1.986800</td>\n",
       "      <td>1699.105000</td>\n",
       "      <td>1.719500</td>\n",
       "      <td>0.375000</td>\n",
       "      <td>0.132900</td>\n",
       "      <td>0.109600</td>\n",
       "      <td>0.053700</td>\n",
       "      <td>0.032100</td>\n",
       "      <td>0.019400</td>\n",
       "      <td>64.340800</td>\n",
       "    </tr>\n",
       "    <tr>\n",
       "      <th>std</th>\n",
       "      <td>2886.89568</td>\n",
       "      <td>8.043929</td>\n",
       "      <td>1.772213</td>\n",
       "      <td>524.886654</td>\n",
       "      <td>0.792264</td>\n",
       "      <td>0.484147</td>\n",
       "      <td>0.339484</td>\n",
       "      <td>0.312406</td>\n",
       "      <td>0.225436</td>\n",
       "      <td>0.176274</td>\n",
       "      <td>0.137933</td>\n",
       "      <td>13.536823</td>\n",
       "    </tr>\n",
       "    <tr>\n",
       "      <th>min</th>\n",
       "      <td>0.00000</td>\n",
       "      <td>23.000000</td>\n",
       "      <td>0.000000</td>\n",
       "      <td>200.000000</td>\n",
       "      <td>1.000000</td>\n",
       "      <td>0.000000</td>\n",
       "      <td>0.000000</td>\n",
       "      <td>0.000000</td>\n",
       "      <td>0.000000</td>\n",
       "      <td>0.000000</td>\n",
       "      <td>0.000000</td>\n",
       "      <td>32.000000</td>\n",
       "    </tr>\n",
       "    <tr>\n",
       "      <th>25%</th>\n",
       "      <td>2499.75000</td>\n",
       "      <td>40.000000</td>\n",
       "      <td>0.000000</td>\n",
       "      <td>1300.000000</td>\n",
       "      <td>1.000000</td>\n",
       "      <td>0.000000</td>\n",
       "      <td>0.000000</td>\n",
       "      <td>0.000000</td>\n",
       "      <td>0.000000</td>\n",
       "      <td>0.000000</td>\n",
       "      <td>0.000000</td>\n",
       "      <td>55.000000</td>\n",
       "    </tr>\n",
       "    <tr>\n",
       "      <th>50%</th>\n",
       "      <td>4999.50000</td>\n",
       "      <td>46.000000</td>\n",
       "      <td>2.000000</td>\n",
       "      <td>1500.000000</td>\n",
       "      <td>2.000000</td>\n",
       "      <td>0.000000</td>\n",
       "      <td>0.000000</td>\n",
       "      <td>0.000000</td>\n",
       "      <td>0.000000</td>\n",
       "      <td>0.000000</td>\n",
       "      <td>0.000000</td>\n",
       "      <td>63.000000</td>\n",
       "    </tr>\n",
       "    <tr>\n",
       "      <th>75%</th>\n",
       "      <td>7499.25000</td>\n",
       "      <td>51.000000</td>\n",
       "      <td>3.000000</td>\n",
       "      <td>2150.000000</td>\n",
       "      <td>2.000000</td>\n",
       "      <td>1.000000</td>\n",
       "      <td>0.000000</td>\n",
       "      <td>0.000000</td>\n",
       "      <td>0.000000</td>\n",
       "      <td>0.000000</td>\n",
       "      <td>0.000000</td>\n",
       "      <td>73.000000</td>\n",
       "    </tr>\n",
       "    <tr>\n",
       "      <th>max</th>\n",
       "      <td>9999.00000</td>\n",
       "      <td>68.000000</td>\n",
       "      <td>10.000000</td>\n",
       "      <td>3950.000000</td>\n",
       "      <td>4.000000</td>\n",
       "      <td>1.000000</td>\n",
       "      <td>1.000000</td>\n",
       "      <td>1.000000</td>\n",
       "      <td>1.000000</td>\n",
       "      <td>1.000000</td>\n",
       "      <td>1.000000</td>\n",
       "      <td>100.000000</td>\n",
       "    </tr>\n",
       "  </tbody>\n",
       "</table>\n",
       "</div>"
      ],
      "text/plain": [
       "                Id           age  years_of_experience  lesson_price  \\\n",
       "count  10000.00000  10000.000000         10000.000000  10000.000000   \n",
       "mean    4999.50000     45.878000             1.986800   1699.105000   \n",
       "std     2886.89568      8.043929             1.772213    524.886654   \n",
       "min        0.00000     23.000000             0.000000    200.000000   \n",
       "25%     2499.75000     40.000000             0.000000   1300.000000   \n",
       "50%     4999.50000     46.000000             2.000000   1500.000000   \n",
       "75%     7499.25000     51.000000             3.000000   2150.000000   \n",
       "max     9999.00000     68.000000            10.000000   3950.000000   \n",
       "\n",
       "       qualification       physics     chemistry       biology       english  \\\n",
       "count   10000.000000  10000.000000  10000.000000  10000.000000  10000.000000   \n",
       "mean        1.719500      0.375000      0.132900      0.109600      0.053700   \n",
       "std         0.792264      0.484147      0.339484      0.312406      0.225436   \n",
       "min         1.000000      0.000000      0.000000      0.000000      0.000000   \n",
       "25%         1.000000      0.000000      0.000000      0.000000      0.000000   \n",
       "50%         2.000000      0.000000      0.000000      0.000000      0.000000   \n",
       "75%         2.000000      1.000000      0.000000      0.000000      0.000000   \n",
       "max         4.000000      1.000000      1.000000      1.000000      1.000000   \n",
       "\n",
       "          geography       history  mean_exam_points  \n",
       "count  10000.000000  10000.000000      10000.000000  \n",
       "mean       0.032100      0.019400         64.340800  \n",
       "std        0.176274      0.137933         13.536823  \n",
       "min        0.000000      0.000000         32.000000  \n",
       "25%        0.000000      0.000000         55.000000  \n",
       "50%        0.000000      0.000000         63.000000  \n",
       "75%        0.000000      0.000000         73.000000  \n",
       "max        1.000000      1.000000        100.000000  "
      ]
     },
     "execution_count": 5,
     "metadata": {},
     "output_type": "execute_result"
    }
   ],
   "source": [
    "df.describe()"
   ]
  },
  {
   "cell_type": "code",
   "execution_count": 6,
   "metadata": {},
   "outputs": [],
   "source": [
    "# сделаем копию данных, которые будем правитть\n",
    "df_correct=df.copy()\n",
    "test_correct = test.copy()"
   ]
  },
  {
   "cell_type": "markdown",
   "metadata": {},
   "source": [
    "Зададим все нужные для работы функции здесь"
   ]
  },
  {
   "cell_type": "code",
   "execution_count": 7,
   "metadata": {},
   "outputs": [],
   "source": [
    "def calc_norm_feat(x):\n",
    "    res = (x - x.min(axis = 0)) / (x.max(axis = 0)-x.min(axis = 0))\n",
    "    return res"
   ]
  },
  {
   "cell_type": "markdown",
   "metadata": {},
   "source": [
    "Анализ данных:"
   ]
  },
  {
   "cell_type": "code",
   "execution_count": 8,
   "metadata": {},
   "outputs": [],
   "source": [
    "def Data_analys(column):\n",
    "#     Нарисуем данные\n",
    "    fig, (ax1, ax2) = plt.subplots(\n",
    "    nrows=1, ncols=2,\n",
    "    figsize=(8, 4)\n",
    "    )\n",
    "    ax1.hist(column)\n",
    "    ax2.boxplot(column)\n",
    "    print(f'максимальное значение  {column.max()}, минимальное значение {column.min()}')\n",
    "    print(f'среднее - {column.mean()},сигма {column.std()}')\n",
    "    q1 =column.quantile(0.25)\n",
    "    q3= column.quantile(0.75)\n",
    "    inter = q3 - q1\n",
    "    print(f'медиана - {column.median()}, 1 квантиль {q1}, 3 квантиль {q3}')   \n",
    "    print('Возможные выбросы снизу ')\n",
    "    print( column[column<(q1-inter*2)])\n",
    "    print('Возможные выбросы сверху ')\n",
    "    print( column[column>(q3+inter*2)])\n"
   ]
  },
  {
   "cell_type": "code",
   "execution_count": 9,
   "metadata": {},
   "outputs": [],
   "source": [
    "def data_with_target(column,target):\n",
    "    plt.scatter(column,target)\n",
    "    print('корреляция ')\n",
    "    print (np.corrcoef(column,target))\n",
    "    print('Коэф кендала  ', pd.DataFrame({'x': column, 'y': target}).corr(method='kendall') ) \n",
    "    \n",
    "    "
   ]
  },
  {
   "cell_type": "markdown",
   "metadata": {},
   "source": [
    "Посмотрим на таргет"
   ]
  },
  {
   "cell_type": "code",
   "execution_count": 10,
   "metadata": {},
   "outputs": [
    {
     "name": "stdout",
     "output_type": "stream",
     "text": [
      "максимальное значение  100.0, минимальное значение 32.0\n",
      "среднее - 64.3408,сигма 13.53682311024223\n",
      "медиана - 63.0, 1 квантиль 55.0, 3 квантиль 73.0\n",
      "Возможные выбросы снизу \n",
      "Series([], Name: mean_exam_points, dtype: float64)\n",
      "Возможные выбросы сверху \n",
      "Series([], Name: mean_exam_points, dtype: float64)\n"
     ]
    },
    {
     "data": {
      "image/png": "[encoded data removed]",
      "text/plain": [
       "<Figure size 576x288 with 2 Axes>"
      ]
     },
     "metadata": {
      "needs_background": "light"
     },
     "output_type": "display_data"
    }
   ],
   "source": [
    "Data_analys(df['mean_exam_points'])\n"
   ]
  },
  {
   "cell_type": "markdown",
   "metadata": {},
   "source": [
    "Таргет идеальный"
   ]
  },
  {
   "cell_type": "markdown",
   "metadata": {},
   "source": [
    "Посмотрим age"
   ]
  },
  {
   "cell_type": "code",
   "execution_count": 11,
   "metadata": {},
   "outputs": [
    {
     "name": "stdout",
     "output_type": "stream",
     "text": [
      "максимальное значение  68.0, минимальное значение 23.0\n",
      "среднее - 45.878,сигма 8.043928547584649\n",
      "медиана - 46.0, 1 квантиль 40.0, 3 квантиль 51.0\n",
      "Возможные выбросы снизу \n",
      "Series([], Name: age, dtype: float64)\n",
      "Возможные выбросы сверху \n",
      "Series([], Name: age, dtype: float64)\n"
     ]
    },
    {
     "data": {
      "image/png": "[encoded data removed]",
      "text/plain": [
       "<Figure size 576x288 with 2 Axes>"
      ]
     },
     "metadata": {
      "needs_background": "light"
     },
     "output_type": "display_data"
    }
   ],
   "source": [
    "Data_analys(df['age'])\n"
   ]
  },
  {
   "cell_type": "code",
   "execution_count": 12,
   "metadata": {},
   "outputs": [
    {
     "name": "stdout",
     "output_type": "stream",
     "text": [
      "корреляция \n",
      "[[ 1.         -0.00764635]\n",
      " [-0.00764635  1.        ]]\n",
      "Коэф кендала             x         y\n",
      "x  1.000000 -0.005916\n",
      "y -0.005916  1.000000\n"
     ]
    },
    {
     "data": {
      "image/png": "[encoded data removed]",
      "text/plain": [
       "<Figure size 432x288 with 1 Axes>"
      ]
     },
     "metadata": {
      "needs_background": "light"
     },
     "output_type": "display_data"
    }
   ],
   "source": [
    "data_with_target(df['age'],df['mean_exam_points'])"
   ]
  },
  {
   "cell_type": "markdown",
   "metadata": {},
   "source": [
    "Данные читсые, выбросов нет. Связь с таргетом практически отсутвует"
   ]
  },
  {
   "cell_type": "markdown",
   "metadata": {},
   "source": [
    "Посмотрим на поле years_of_experience Опыт в годах"
   ]
  },
  {
   "cell_type": "code",
   "execution_count": 13,
   "metadata": {},
   "outputs": [
    {
     "name": "stdout",
     "output_type": "stream",
     "text": [
      "максимальное значение  10.0, минимальное значение 0.0\n",
      "среднее - 1.9868,сигма 1.7722132586073134\n",
      "медиана - 2.0, 1 квантиль 0.0, 3 квантиль 3.0\n",
      "Возможные выбросы снизу \n",
      "Series([], Name: years_of_experience, dtype: float64)\n",
      "Возможные выбросы сверху \n",
      "261    10.0\n",
      "Name: years_of_experience, dtype: float64\n"
     ]
    },
    {
     "data": {
      "image/png": "[encoded data removed]",
      "text/plain": [
       "<Figure size 576x288 with 2 Axes>"
      ]
     },
     "metadata": {
      "needs_background": "light"
     },
     "output_type": "display_data"
    }
   ],
   "source": [
    "Data_analys(df['years_of_experience'])"
   ]
  },
  {
   "cell_type": "code",
   "execution_count": 14,
   "metadata": {},
   "outputs": [
    {
     "name": "stdout",
     "output_type": "stream",
     "text": [
      "корреляция \n",
      "[[1.         0.20541739]\n",
      " [0.20541739 1.        ]]\n",
      "Коэф кендала             x         y\n",
      "x  1.000000  0.122693\n",
      "y  0.122693  1.000000\n"
     ]
    },
    {
     "data": {
      "image/png": "[encoded data removed]",
      "text/plain": [
       "<Figure size 432x288 with 1 Axes>"
      ]
     },
     "metadata": {
      "needs_background": "light"
     },
     "output_type": "display_data"
    }
   ],
   "source": [
    "data_with_target(df['years_of_experience'],df['mean_exam_points'])"
   ]
  },
  {
   "cell_type": "markdown",
   "metadata": {},
   "source": [
    "Опыт 10 лет не будем считать выбросом\n",
    "Связь как видно очень слабая"
   ]
  },
  {
   "cell_type": "markdown",
   "metadata": {},
   "source": [
    "Анализируем стоимость занятий (lesson_price)"
   ]
  },
  {
   "cell_type": "code",
   "execution_count": 15,
   "metadata": {},
   "outputs": [
    {
     "name": "stdout",
     "output_type": "stream",
     "text": [
      "максимальное значение  3950.0, минимальное значение 200.0\n",
      "среднее - 1699.105,сигма 524.8866540262864\n",
      "медиана - 1500.0, 1 квантиль 1300.0, 3 квантиль 2150.0\n",
      "Возможные выбросы снизу \n",
      "Series([], Name: lesson_price, dtype: float64)\n",
      "Возможные выбросы сверху \n",
      "3207    3950.0\n",
      "Name: lesson_price, dtype: float64\n"
     ]
    },
    {
     "data": {
      "image/png": "[encoded data removed]",
      "text/plain": [
       "<Figure size 576x288 with 2 Axes>"
      ]
     },
     "metadata": {
      "needs_background": "light"
     },
     "output_type": "display_data"
    }
   ],
   "source": [
    "Data_analys(df['lesson_price'])"
   ]
  },
  {
   "cell_type": "code",
   "execution_count": 16,
   "metadata": {},
   "outputs": [
    {
     "name": "stdout",
     "output_type": "stream",
     "text": [
      "корреляция \n",
      "[[1.         0.72117912]\n",
      " [0.72117912 1.        ]]\n",
      "Коэф кендала             x         y\n",
      "x  1.000000  0.481413\n",
      "y  0.481413  1.000000\n"
     ]
    },
    {
     "data": {
      "image/png": "[encoded data removed]",
      "text/plain": [
       "<Figure size 432x288 with 1 Axes>"
      ]
     },
     "metadata": {
      "needs_background": "light"
     },
     "output_type": "display_data"
    }
   ],
   "source": [
    "data_with_target(df['lesson_price'],df['mean_exam_points'])"
   ]
  },
  {
   "cell_type": "markdown",
   "metadata": {},
   "source": [
    "3950.0 - не будем считать выбросом. Связь здесь сильная, более линейная"
   ]
  },
  {
   "cell_type": "markdown",
   "metadata": {},
   "source": [
    "Анализируем квалификацию (qualification)"
   ]
  },
  {
   "cell_type": "code",
   "execution_count": 17,
   "metadata": {},
   "outputs": [
    {
     "name": "stdout",
     "output_type": "stream",
     "text": [
      "максимальное значение  4.0, минимальное значение 1.0\n",
      "среднее - 1.7195,сигма 0.7922641720107171\n",
      "медиана - 2.0, 1 квантиль 1.0, 3 квантиль 2.0\n",
      "Возможные выбросы снизу \n",
      "Series([], Name: qualification, dtype: float64)\n",
      "Возможные выбросы сверху \n",
      "Series([], Name: qualification, dtype: float64)\n"
     ]
    },
    {
     "data": {
      "image/png": "[encoded data removed]",
      "text/plain": [
       "<Figure size 576x288 with 2 Axes>"
      ]
     },
     "metadata": {
      "needs_background": "light"
     },
     "output_type": "display_data"
    }
   ],
   "source": [
    "Data_analys(df['qualification'])"
   ]
  },
  {
   "cell_type": "code",
   "execution_count": 18,
   "metadata": {},
   "outputs": [
    {
     "name": "stdout",
     "output_type": "stream",
     "text": [
      "корреляция \n",
      "[[1.         0.75596287]\n",
      " [0.75596287 1.        ]]\n",
      "Коэф кендала             x         y\n",
      "x  1.000000  0.592776\n",
      "y  0.592776  1.000000\n"
     ]
    },
    {
     "data": {
      "image/png": "[encoded data removed]",
      "text/plain": [
       "<Figure size 432x288 with 1 Axes>"
      ]
     },
     "metadata": {
      "needs_background": "light"
     },
     "output_type": "display_data"
    }
   ],
   "source": [
    "data_with_target(df['qualification'],df['mean_exam_points'])"
   ]
  },
  {
   "cell_type": "markdown",
   "metadata": {},
   "source": [
    "ПРизнак категориальный , при этом остается значимым  расотяние между данными.\n",
    "связь существенная как линеная так и не линейная"
   ]
  },
  {
   "cell_type": "markdown",
   "metadata": {},
   "source": [
    "Физика"
   ]
  },
  {
   "cell_type": "code",
   "execution_count": 19,
   "metadata": {},
   "outputs": [
    {
     "data": {
      "text/plain": [
       "0.0    6250\n",
       "1.0    3750\n",
       "Name: physics, dtype: int64"
      ]
     },
     "execution_count": 19,
     "metadata": {},
     "output_type": "execute_result"
    }
   ],
   "source": [
    "df.physics.value_counts()"
   ]
  },
  {
   "cell_type": "code",
   "execution_count": 20,
   "metadata": {},
   "outputs": [
    {
     "name": "stdout",
     "output_type": "stream",
     "text": [
      "корреляция \n",
      "[[1.         0.18772627]\n",
      " [0.18772627 1.        ]]\n",
      "Коэф кендала             x         y\n",
      "x  1.000000  0.154893\n",
      "y  0.154893  1.000000\n"
     ]
    },
    {
     "data": {
      "image/png": "[encoded data removed]",
      "text/plain": [
       "<Figure size 432x288 with 1 Axes>"
      ]
     },
     "metadata": {
      "needs_background": "light"
     },
     "output_type": "display_data"
    }
   ],
   "source": [
    "data_with_target(df['physics'],df['mean_exam_points'])"
   ]
  },
  {
   "cell_type": "markdown",
   "metadata": {},
   "source": [
    "Химия"
   ]
  },
  {
   "cell_type": "code",
   "execution_count": 21,
   "metadata": {},
   "outputs": [
    {
     "data": {
      "text/plain": [
       "0.0    8671\n",
       "1.0    1329\n",
       "Name: chemistry, dtype: int64"
      ]
     },
     "execution_count": 21,
     "metadata": {},
     "output_type": "execute_result"
    }
   ],
   "source": [
    "df.chemistry.value_counts()"
   ]
  },
  {
   "cell_type": "code",
   "execution_count": 22,
   "metadata": {},
   "outputs": [
    {
     "name": "stdout",
     "output_type": "stream",
     "text": [
      "корреляция \n",
      "[[1.         0.01782512]\n",
      " [0.01782512 1.        ]]\n",
      "Коэф кендала             x         y\n",
      "x  1.000000  0.013942\n",
      "y  0.013942  1.000000\n"
     ]
    },
    {
     "data": {
      "image/png": "[encoded data removed]",
      "text/plain": [
       "<Figure size 432x288 with 1 Axes>"
      ]
     },
     "metadata": {
      "needs_background": "light"
     },
     "output_type": "display_data"
    }
   ],
   "source": [
    "data_with_target(df['chemistry'],df['mean_exam_points'])"
   ]
  },
  {
   "cell_type": "markdown",
   "metadata": {},
   "source": [
    "Биология"
   ]
  },
  {
   "cell_type": "code",
   "execution_count": 23,
   "metadata": {},
   "outputs": [
    {
     "data": {
      "text/plain": [
       "0.0    8904\n",
       "1.0    1096\n",
       "Name: biology, dtype: int64"
      ]
     },
     "execution_count": 23,
     "metadata": {},
     "output_type": "execute_result"
    }
   ],
   "source": [
    "df.biology.value_counts()"
   ]
  },
  {
   "cell_type": "code",
   "execution_count": 24,
   "metadata": {},
   "outputs": [
    {
     "name": "stdout",
     "output_type": "stream",
     "text": [
      "корреляция \n",
      "[[1.        0.0230216]\n",
      " [0.0230216 1.       ]]\n",
      "Коэф кендала             x         y\n",
      "x  1.000000  0.021148\n",
      "y  0.021148  1.000000\n"
     ]
    },
    {
     "data": {
      "image/png": "[encoded data removed]",
      "text/plain": [
       "<Figure size 432x288 with 1 Axes>"
      ]
     },
     "metadata": {
      "needs_background": "light"
     },
     "output_type": "display_data"
    }
   ],
   "source": [
    "data_with_target(df['biology'],df['mean_exam_points'])"
   ]
  },
  {
   "cell_type": "markdown",
   "metadata": {},
   "source": [
    "Английский"
   ]
  },
  {
   "cell_type": "code",
   "execution_count": 25,
   "metadata": {},
   "outputs": [
    {
     "data": {
      "text/plain": [
       "0.0    9463\n",
       "1.0     537\n",
       "Name: english, dtype: int64"
      ]
     },
     "execution_count": 25,
     "metadata": {},
     "output_type": "execute_result"
    }
   ],
   "source": [
    "df.english.value_counts()"
   ]
  },
  {
   "cell_type": "code",
   "execution_count": 26,
   "metadata": {},
   "outputs": [
    {
     "name": "stdout",
     "output_type": "stream",
     "text": [
      "корреляция \n",
      "[[1.         0.01317404]\n",
      " [0.01317404 1.        ]]\n",
      "Коэф кендала             x         y\n",
      "x  1.000000  0.008851\n",
      "y  0.008851  1.000000\n"
     ]
    },
    {
     "data": {
      "image/png": "[encoded data removed]",
      "text/plain": [
       "<Figure size 432x288 with 1 Axes>"
      ]
     },
     "metadata": {
      "needs_background": "light"
     },
     "output_type": "display_data"
    }
   ],
   "source": [
    "data_with_target(df['english'],df['mean_exam_points'])"
   ]
  },
  {
   "cell_type": "code",
   "execution_count": 27,
   "metadata": {},
   "outputs": [
    {
     "data": {
      "text/plain": [
       "0.0    9679\n",
       "1.0     321\n",
       "Name: geography, dtype: int64"
      ]
     },
     "execution_count": 27,
     "metadata": {},
     "output_type": "execute_result"
    }
   ],
   "source": [
    "df.geography.value_counts()"
   ]
  },
  {
   "cell_type": "code",
   "execution_count": 28,
   "metadata": {},
   "outputs": [
    {
     "name": "stdout",
     "output_type": "stream",
     "text": [
      "корреляция \n",
      "[[1.         0.01440106]\n",
      " [0.01440106 1.        ]]\n",
      "Коэф кендала             x         y\n",
      "x  1.000000  0.011744\n",
      "y  0.011744  1.000000\n"
     ]
    },
    {
     "data": {
      "image/png": "[encoded data removed]",
      "text/plain": [
       "<Figure size 432x288 with 1 Axes>"
      ]
     },
     "metadata": {
      "needs_background": "light"
     },
     "output_type": "display_data"
    }
   ],
   "source": [
    "data_with_target(df['geography'],df['mean_exam_points'])"
   ]
  },
  {
   "cell_type": "code",
   "execution_count": 29,
   "metadata": {},
   "outputs": [
    {
     "data": {
      "text/plain": [
       "0.0    9806\n",
       "1.0     194\n",
       "Name: history, dtype: int64"
      ]
     },
     "execution_count": 29,
     "metadata": {},
     "output_type": "execute_result"
    }
   ],
   "source": [
    "df.history.value_counts() "
   ]
  },
  {
   "cell_type": "code",
   "execution_count": 30,
   "metadata": {},
   "outputs": [
    {
     "name": "stdout",
     "output_type": "stream",
     "text": [
      "корреляция \n",
      "[[ 1.00000000e+00 -1.13294699e-04]\n",
      " [-1.13294699e-04  1.00000000e+00]]\n",
      "Коэф кендала             x         y\n",
      "x  1.000000 -0.000898\n",
      "y -0.000898  1.000000\n"
     ]
    },
    {
     "data": {
      "image/png": "[encoded data removed]",
      "text/plain": [
       "<Figure size 432x288 with 1 Axes>"
      ]
     },
     "metadata": {
      "needs_background": "light"
     },
     "output_type": "display_data"
    }
   ],
   "source": [
    "data_with_target(df['history'],df['mean_exam_points'])"
   ]
  },
  {
   "cell_type": "markdown",
   "metadata": {},
   "source": [
    "Создадим столбец, который суммирует в себе количество предметов, которыми владеет учитель"
   ]
  },
  {
   "cell_type": "code",
   "execution_count": 31,
   "metadata": {},
   "outputs": [],
   "source": [
    "df_correct['sum_disciplines'] = df.loc[:,'physics':'history'].sum(axis=1)\n",
    "test_correct['sum_disciplines'] = test.loc[:,'physics':'history'].sum(axis=1)"
   ]
  },
  {
   "cell_type": "code",
   "execution_count": 32,
   "metadata": {},
   "outputs": [
    {
     "data": {
      "text/plain": [
       "0.0    4377\n",
       "1.0    4197\n",
       "2.0    1256\n",
       "3.0     162\n",
       "4.0       8\n",
       "Name: sum_disciplines, dtype: int64"
      ]
     },
     "execution_count": 32,
     "metadata": {},
     "output_type": "execute_result"
    }
   ],
   "source": [
    "df_correct.sum_disciplines.value_counts() "
   ]
  },
  {
   "cell_type": "code",
   "execution_count": 33,
   "metadata": {},
   "outputs": [
    {
     "name": "stdout",
     "output_type": "stream",
     "text": [
      "максимальное значение  4.0, минимальное значение 0.0\n",
      "среднее - 0.7227,сигма 0.7473021852340584\n",
      "медиана - 1.0, 1 квантиль 0.0, 3 квантиль 1.0\n",
      "Возможные выбросы снизу \n",
      "Series([], Name: sum_disciplines, dtype: float64)\n",
      "Возможные выбросы сверху \n",
      "4350    4.0\n",
      "6275    4.0\n",
      "6858    4.0\n",
      "8132    4.0\n",
      "8331    4.0\n",
      "9323    4.0\n",
      "9366    4.0\n",
      "9689    4.0\n",
      "Name: sum_disciplines, dtype: float64\n"
     ]
    },
    {
     "data": {
      "image/png": "[encoded data removed]",
      "text/plain": [
       "<Figure size 576x288 with 2 Axes>"
      ]
     },
     "metadata": {
      "needs_background": "light"
     },
     "output_type": "display_data"
    }
   ],
   "source": [
    "Data_analys(df_correct['sum_disciplines'])"
   ]
  },
  {
   "cell_type": "code",
   "execution_count": 34,
   "metadata": {},
   "outputs": [
    {
     "name": "stdout",
     "output_type": "stream",
     "text": [
      "корреляция \n",
      "[[1.         0.14669216]\n",
      " [0.14669216 1.        ]]\n",
      "Коэф кендала             x         y\n",
      "x  1.000000  0.120676\n",
      "y  0.120676  1.000000\n"
     ]
    },
    {
     "data": {
      "image/png": "[encoded data removed]",
      "text/plain": [
       "<Figure size 432x288 with 1 Axes>"
      ]
     },
     "metadata": {
      "needs_background": "light"
     },
     "output_type": "display_data"
    }
   ],
   "source": [
    "data_with_target(df_correct['sum_disciplines'],df['mean_exam_points'])"
   ]
  },
  {
   "cell_type": "markdown",
   "metadata": {},
   "source": [
    "Создадим столбец уровень опыта из 4 признаков"
   ]
  },
  {
   "cell_type": "code",
   "execution_count": 35,
   "metadata": {},
   "outputs": [],
   "source": [
    "def y(x):\n",
    "    if x==1:\n",
    "        return 0\n",
    "    if x<=2:\n",
    "        return 1\n",
    "    if x <=3:\n",
    "        return 2\n",
    "    return 4"
   ]
  },
  {
   "cell_type": "code",
   "execution_count": 36,
   "metadata": {},
   "outputs": [],
   "source": [
    "df_correct['level_of_experience']=df['years_of_experience'].apply(y)"
   ]
  },
  {
   "cell_type": "code",
   "execution_count": 37,
   "metadata": {},
   "outputs": [],
   "source": [
    "test_correct['level_of_experience']=test_correct['years_of_experience'].apply(y)"
   ]
  },
  {
   "cell_type": "code",
   "execution_count": 38,
   "metadata": {},
   "outputs": [
    {
     "name": "stdout",
     "output_type": "stream",
     "text": [
      "корреляция \n",
      "[[1.        0.2167955]\n",
      " [0.2167955 1.       ]]\n",
      "Коэф кендала            x        y\n",
      "x  1.00000  0.13473\n",
      "y  0.13473  1.00000\n"
     ]
    },
    {
     "data": {
      "image/png": "[encoded data removed]",
      "text/plain": [
       "<Figure size 432x288 with 1 Axes>"
      ]
     },
     "metadata": {
      "needs_background": "light"
     },
     "output_type": "display_data"
    }
   ],
   "source": [
    "data_with_target(df_correct['level_of_experience'],df['mean_exam_points'])"
   ]
  },
  {
   "cell_type": "markdown",
   "metadata": {},
   "source": [
    "Создадим столбец уровень стоимостт из 4 признаков"
   ]
  },
  {
   "cell_type": "code",
   "execution_count": 39,
   "metadata": {},
   "outputs": [],
   "source": [
    "def y2(x):\n",
    "    if x<1000:\n",
    "        return 1\n",
    "    if x<=2000:\n",
    "        return 2\n",
    "    if x <=3000:\n",
    "        return 3\n",
    "    return 4"
   ]
  },
  {
   "cell_type": "code",
   "execution_count": 40,
   "metadata": {},
   "outputs": [],
   "source": [
    "df_correct['level_of_lesson_price']=df['lesson_price'].apply(y2)"
   ]
  },
  {
   "cell_type": "code",
   "execution_count": 41,
   "metadata": {},
   "outputs": [],
   "source": [
    "test_correct['level_of_lesson_price']=test_correct['lesson_price'].apply(y2)"
   ]
  },
  {
   "cell_type": "code",
   "execution_count": 42,
   "metadata": {},
   "outputs": [
    {
     "name": "stdout",
     "output_type": "stream",
     "text": [
      "корреляция \n",
      "[[1.         0.69708741]\n",
      " [0.69708741 1.        ]]\n",
      "Коэф кендала             x         y\n",
      "x  1.000000  0.577447\n",
      "y  0.577447  1.000000\n"
     ]
    },
    {
     "data": {
      "image/png": "[encoded data removed]",
      "text/plain": [
       "<Figure size 432x288 with 1 Axes>"
      ]
     },
     "metadata": {
      "needs_background": "light"
     },
     "output_type": "display_data"
    }
   ],
   "source": [
    "data_with_target(df_correct['level_of_lesson_price'],df['mean_exam_points'])"
   ]
  },
  {
   "cell_type": "markdown",
   "metadata": {},
   "source": [
    "Создадим столбец рейтинг на основании других важных столбцов с учетом воияния на целевую переменную"
   ]
  },
  {
   "cell_type": "code",
   "execution_count": 43,
   "metadata": {},
   "outputs": [],
   "source": [
    "test_correct['rating'] = test_correct['level_of_experience']*12+\\\n",
    "test_correct['level_of_lesson_price']*48+\\\n",
    "test_correct['qualification']*59+test_correct['physics']*15\\\n",
    " +test_correct['chemistry']*10"
   ]
  },
  {
   "cell_type": "code",
   "execution_count": 44,
   "metadata": {},
   "outputs": [],
   "source": [
    "df_correct['rating'] = df_correct['level_of_experience']*12+\\\n",
    "df_correct['level_of_lesson_price']*48+\\\n",
    "df_correct['qualification']*59+df_correct['physics']*15\\\n",
    " +df_correct['chemistry']*10"
   ]
  },
  {
   "cell_type": "code",
   "execution_count": 45,
   "metadata": {},
   "outputs": [
    {
     "name": "stdout",
     "output_type": "stream",
     "text": [
      "корреляция \n",
      "[[1.         0.79720282]\n",
      " [0.79720282 1.        ]]\n",
      "Коэф кендала             x         y\n",
      "x  1.000000  0.561215\n",
      "y  0.561215  1.000000\n"
     ]
    },
    {
     "data": {
      "image/png": "[encoded data removed]",
      "text/plain": [
       "<Figure size 432x288 with 1 Axes>"
      ]
     },
     "metadata": {
      "needs_background": "light"
     },
     "output_type": "display_data"
    }
   ],
   "source": [
    "data_with_target(df_correct['rating'],df['mean_exam_points'])"
   ]
  },
  {
   "cell_type": "code",
   "execution_count": 46,
   "metadata": {},
   "outputs": [],
   "source": [
    "df_correct['norma'] =np.sqrt(df_correct['level_of_experience']**2+\\\n",
    "df_correct['level_of_lesson_price']**2+\\\n",
    "df_correct['qualification']**2)"
   ]
  },
  {
   "cell_type": "code",
   "execution_count": 47,
   "metadata": {},
   "outputs": [],
   "source": [
    "test_correct['norma'] = np.sqrt(test_correct['level_of_experience']*22+\\\n",
    "test_correct['level_of_lesson_price']**2+\\\n",
    "test_correct['qualification']**2)"
   ]
  },
  {
   "cell_type": "code",
   "execution_count": 48,
   "metadata": {},
   "outputs": [
    {
     "name": "stdout",
     "output_type": "stream",
     "text": [
      "корреляция \n",
      "[[1.         0.62920426]\n",
      " [0.62920426 1.        ]]\n",
      "Коэф кендала             x         y\n",
      "x  1.000000  0.444958\n",
      "y  0.444958  1.000000\n"
     ]
    },
    {
     "data": {
      "image/png": "[encoded data removed]",
      "text/plain": [
       "<Figure size 432x288 with 1 Axes>"
      ]
     },
     "metadata": {
      "needs_background": "light"
     },
     "output_type": "display_data"
    }
   ],
   "source": [
    "data_with_target(df_correct['norma'],df['mean_exam_points'])"
   ]
  },
  {
   "cell_type": "markdown",
   "metadata": {},
   "source": [
    "После огромного количесвта испытаний на разных моделях, параметрах и гиперпараметров, выяснилось, что самsй лучий результат дают данные в слкдующей комбинации:\n",
    "    "
   ]
  },
  {
   "cell_type": "code",
   "execution_count": 49,
   "metadata": {},
   "outputs": [],
   "source": [
    "a=[ 'years_of_experience',\n",
    " 'lesson_price',\n",
    " 'qualification',\n",
    " 'physics',\n",
    " 'chemistry',\n",
    " 'biology',\n",
    " 'english',\n",
    "]"
   ]
  },
  {
   "cell_type": "markdown",
   "metadata": {},
   "source": [
    "Далее я попытался отcчеь выбросы на участак целевой переменной. То есть рассматривать участок например от 60 до 65 и смотреть есть ли там выбросы и удалть их.\n",
    "Но это то же результата не дало."
   ]
  },
  {
   "cell_type": "code",
   "execution_count": null,
   "metadata": {},
   "outputs": [],
   "source": []
  },
  {
   "cell_type": "code",
   "execution_count": 50,
   "metadata": {},
   "outputs": [
    {
     "name": "stdout",
     "output_type": "stream",
     "text": [
      "30\n",
      "(9996, 17)\n",
      "30\n",
      "(9990, 17)\n",
      "30\n",
      "(9990, 17)\n",
      "35\n",
      "(9956, 17)\n",
      "35\n",
      "(9933, 17)\n",
      "35\n",
      "(9933, 17)\n",
      "40\n",
      "(9902, 17)\n",
      "40\n",
      "(9840, 17)\n",
      "40\n",
      "(9839, 17)\n",
      "45\n",
      "(9746, 17)\n",
      "45\n",
      "(9744, 17)\n",
      "45\n",
      "(9743, 17)\n",
      "50\n",
      "(9670, 17)\n",
      "50\n",
      "(9655, 17)\n",
      "50\n",
      "(9649, 17)\n",
      "55\n",
      "(9552, 17)\n",
      "55\n",
      "(9536, 17)\n",
      "55\n",
      "(9527, 17)\n",
      "60\n",
      "(9299, 17)\n",
      "60\n",
      "(9277, 17)\n",
      "60\n",
      "(9261, 17)\n",
      "65\n",
      "(9028, 17)\n",
      "65\n",
      "(9022, 17)\n",
      "65\n",
      "(9022, 17)\n",
      "70\n",
      "(8973, 17)\n",
      "70\n",
      "(8973, 17)\n",
      "70\n",
      "(8973, 17)\n",
      "75\n",
      "(8867, 17)\n",
      "75\n",
      "(8792, 17)\n",
      "75\n",
      "(8788, 17)\n",
      "80\n",
      "(8582, 17)\n",
      "80\n",
      "(8570, 17)\n",
      "80\n",
      "(8568, 17)\n",
      "85\n",
      "(8425, 17)\n",
      "85\n",
      "(8424, 17)\n",
      "85\n",
      "(8421, 17)\n",
      "90\n",
      "(8385, 17)\n",
      "90\n",
      "(8382, 17)\n",
      "90\n",
      "(8382, 17)\n",
      "95\n",
      "(8378, 17)\n",
      "95\n",
      "(8376, 17)\n",
      "95\n",
      "(8376, 17)\n"
     ]
    }
   ],
   "source": [
    "df_work = df_correct.copy()\n",
    "for i in range (30,96,5):\n",
    "    test = df_work[(df_work['mean_exam_points']>=i)&(df_work['mean_exam_points']<i+5)]\n",
    "    med = test.median()\n",
    "    q25=test.quantile(0.25)\n",
    "    q75 = test.quantile(0.75)\n",
    "    iq = q75 - q25\n",
    "    ind = test[(test['years_of_experience']>med['years_of_experience']+2)|(test['years_of_experience']<med['years_of_experience']-2)].index\n",
    "    df_work =df_work.drop(ind)\n",
    "    print(i)\n",
    "    print(df_work.shape)\n",
    "    test = test.drop(ind)\n",
    "    ind = test[(test['lesson_price']>q75['lesson_price']+iq['lesson_price']*1.5)|(test['lesson_price']<q25['lesson_price'] - iq['lesson_price']*1.5)].index\n",
    "    df_work =df_work.drop(ind)\n",
    "    print(i)\n",
    "    print(df_work.shape)\n",
    "    test = test.drop(ind)\n",
    "    ind = test[(test['qualification']>med['qualification']+1)|(test['qualification']<med['qualification']-1)].index\n",
    "    df_work =df_work.drop(ind)\n",
    "    print(i)\n",
    "    print(df_work.shape)\n",
    "    test = test.drop(ind)"
   ]
  },
  {
   "cell_type": "markdown",
   "metadata": {},
   "source": [
    "В итоге самые эффективные, который я смог обнаружить стал изначальный за вычетом трех полей"
   ]
  },
  {
   "cell_type": "code",
   "execution_count": 51,
   "metadata": {},
   "outputs": [],
   "source": [
    "X_train = df_correct[a]\n",
    "X_train.to_csv('x_train.csv',index=False)\n",
    "X_test = test_correct[a]\n",
    "X_train.to_csv('x_test.csv',index=False)\n",
    "y_train = df_correct['mean_exam_points']\n",
    "y_train.to_csv('y_train.csv',index=False)"
   ]
  },
  {
   "cell_type": "code",
   "execution_count": null,
   "metadata": {},
   "outputs": [],
   "source": []
  },
  {
   "cell_type": "code",
   "execution_count": null,
   "metadata": {},
   "outputs": [],
   "source": []
  }
 ],
 "metadata": {
  "kernelspec": {
   "display_name": "Python 3",
   "language": "python",
   "name": "python3"
  },
  "language_info": {
   "codemirror_mode": {
    "name": "ipython",
    "version": 3
   },
   "file_extension": ".py",
   "mimetype": "text/x-python",
   "name": "python",
   "nbconvert_exporter": "python",
   "pygments_lexer": "ipython3",
   "version": "3.8.3"
  }
 },
 "nbformat": 4,
 "nbformat_minor": 4
}
