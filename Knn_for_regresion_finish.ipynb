{
 "cells": [
  {
   "cell_type": "markdown",
   "metadata": {},
   "source": [
    "Адаптируем модель KNN для задачи регресии на данных для курсового проекта"
   ]
  },
  {
   "cell_type": "code",
   "execution_count": 3,
   "metadata": {},
   "outputs": [],
   "source": [
    "import numpy as np\n",
    "import pandas as pd\n",
    "from sklearn import model_selection"
   ]
  },
  {
   "cell_type": "code",
   "execution_count": 4,
   "metadata": {},
   "outputs": [],
   "source": [
    "# Получим полные рабочие данные в нумпай\n",
    "X = pd.read_csv('x_train.csv')\n",
    "X_train=X.to_numpy()\n",
    "X_test = pd.read_csv('x_test.csv')\n",
    "y = pd.read_csv('y_train.csv')\n",
    "y_train = y.to_numpy()"
   ]
  },
  {
   "cell_type": "code",
   "execution_count": 28,
   "metadata": {},
   "outputs": [],
   "source": []
  },
  {
   "cell_type": "code",
   "execution_count": null,
   "metadata": {},
   "outputs": [],
   "source": []
  },
  {
   "cell_type": "code",
   "execution_count": 5,
   "metadata": {},
   "outputs": [],
   "source": [
    "X_tr,X_te, y_tr,y_t = model_selection.train_test_split(X_train, y_train, test_size=0.3, random_state=1)"
   ]
  },
  {
   "cell_type": "code",
   "execution_count": 6,
   "metadata": {},
   "outputs": [],
   "source": [
    "# клас для расчета веса по номеру соседа\n",
    "class Knn_w_n():\n",
    "    def __init__ (self):\n",
    "        self.x_train=None\n",
    "        self.y_train=None\n",
    "        self.x_test=None\n",
    "        self.k=None\n",
    "        self.answer = None\n",
    "        \n",
    "    def e_metrics(self,x1, x2):   \n",
    "        return np.sqrt(((x1-x2)**2).sum())  \n",
    "    \n",
    "    def predict(self,x_train, y_train, x_test, k,q=0.9):\n",
    "        self.x_train=x_train\n",
    "        self.y_train=y_train\n",
    "        self.x_test=x_test\n",
    "        self.k=k\n",
    "        self.q = q\n",
    "        answers = []\n",
    "        for x in x_test:\n",
    "            test_distances = []\n",
    "\n",
    "            for i in range(len(x_train)):\n",
    "\n",
    "                # расчет расстояния от классифицируемого объекта до\n",
    "                # объекта обучающей выборки\n",
    "                distance = self.e_metrics(x, x_train[i])\n",
    "\n",
    "                # Записываем в список значение расстояния и ответа на объекте обучающей выборки\n",
    "                test_distances.append((distance, y_train[i]))\n",
    "\n",
    "            # создаем словарь со всеми возможными классами\n",
    "#             classes = {class_item: 0 for class_item in set(y_train)}\n",
    "\n",
    "#             создадим список весов\n",
    "            w=[q**i for i in range(k)]\n",
    "            # Сортируем список и среди первых k элементов подсчитаем частоту появления разных классов           \n",
    "            s=0\n",
    "            for i,d in enumerate(sorted(test_distances)[0:k]):\n",
    "                s+=d[1]*w[i]         \n",
    "            answers.append(s/sum(w))\n",
    "        self.answer = answers\n",
    "        return answers\n",
    "    \n",
    "    def accuracy(self,y):\n",
    "        return (sum(self.answer == y) / len(y))\n",
    "    \n",
    "    def r2 (self,y_test):\n",
    "         return 1- ((self.answer - y_test)**2).sum()/((y_test-y_test.mean())**2).sum()"
   ]
  },
  {
   "cell_type": "code",
   "execution_count": 7,
   "metadata": {},
   "outputs": [],
   "source": [
    "# клас для расчета пос редней между соседями без учета весов\n",
    "class Knn():\n",
    "    def __init__ (self):\n",
    "        self.x_train=None\n",
    "        self.y_train=None\n",
    "        self.x_test=None\n",
    "        self.k=None\n",
    "        self.answer = None\n",
    "        \n",
    "    def e_metrics(self,x1, x2):   \n",
    "        return np.sqrt(((x1-x2)**2).sum())  \n",
    "    \n",
    "    def predict(self,x_train, y_train, x_test, k):\n",
    "        self.x_train=x_train\n",
    "        self.y_train=y_train\n",
    "        self.x_test=x_test\n",
    "        self.k=k  \n",
    "        answers = []\n",
    "        for x in x_test:\n",
    "            test_distances = []\n",
    "\n",
    "            for i in range(len(x_train)):\n",
    "\n",
    "                # расчет расстояния от классифицируемого объекта до\n",
    "                # объекта обучающей выборки\n",
    "                distance = self.e_metrics(x, x_train[i])\n",
    "\n",
    "                # Записываем в список значение расстояния и ответа на объекте обучающей выборки\n",
    "                test_distances.append((distance, y_train[i]))\n",
    "\n",
    "            # создаем словарь со всеми возможными классами\n",
    "#             classes = {class_item: 0 for class_item in set(y_train)}\n",
    "\n",
    "#             создадим список весов\n",
    "#             w=[0.9**i for i in range(k)]\n",
    "            # Сортируем список и среди первых k элементов подсчитаем частоту появления разных классов           \n",
    "            s=0\n",
    "            for d in sorted(test_distances)[0:k]:\n",
    "                s+=d[1]         \n",
    "            answers.append(s/k)\n",
    "        self.answer = answers\n",
    "        return answers\n",
    "    \n",
    "    def accuracy(self,y):\n",
    "        return (sum(self.answer == y) / len(y))\n",
    "    \n",
    "    def r2 (self,y_test):\n",
    "         return 1- ((self.answer - y_test)**2).sum()/((y_test-y_test.mean())**2).sum()"
   ]
  },
  {
   "cell_type": "code",
   "execution_count": 8,
   "metadata": {},
   "outputs": [],
   "source": [
    "# клас для расчета пос редней между соседями без учета весов\n",
    "class Knn_w_d():\n",
    "    def __init__ (self):\n",
    "        self.x_train=None\n",
    "        self.y_train=None\n",
    "        self.x_test=None\n",
    "        self.k=None\n",
    "        self.answer = None\n",
    "        \n",
    "    def e_metrics(self,x1, x2):   \n",
    "        return np.sqrt(((x1-x2)**2).sum())  \n",
    "    \n",
    "    def predict(self,x_train, y_train, x_test, k,q=0.9):\n",
    "        self.x_train=x_train\n",
    "        self.y_train=y_train\n",
    "        self.x_test=x_test\n",
    "        self.k=k \n",
    "        self.q = q\n",
    "        answers = []\n",
    "        for x in x_test:\n",
    "            test_distances = []\n",
    "\n",
    "            for i in range(len(x_train)):\n",
    "\n",
    "                # расчет расстояния от классифицируемого объекта до\n",
    "                # объекта обучающей выборки\n",
    "                distance = self.e_metrics(x, x_train[i])\n",
    "\n",
    "                # Записываем в список значение расстояния и ответа на объекте обучающей выборки\n",
    "                test_distances.append((distance, y_train[i]))\n",
    "\n",
    "            # создаем словарь со всеми возможными классами\n",
    "#             classes = {class_item: 0 for class_item in set(y_train)}\n",
    "\n",
    "#             создадим список весов\n",
    "#             w=[0.9**i for i in range(k)]\n",
    "            # Сортируем список и среди первых k элементов подсчитаем частоту появления разных классов           \n",
    "            s=0\n",
    "            w = 0\n",
    "            for d in sorted(test_distances)[0:k]:\n",
    "                s+=d[1]*q**d[0]\n",
    "                w+=q**d[0]\n",
    "            answers.append(s/w)\n",
    "        self.answer = answers\n",
    "        return answers\n",
    "    \n",
    "    def accuracy(self,y):\n",
    "        return (sum(self.answer == y) / len(y))\n",
    "    \n",
    "    def r2 (self,y_test):\n",
    "         return 1- ((self.answer - y_test)**2).sum()/((y_test-y_test.mean())**2).sum()"
   ]
  },
  {
   "cell_type": "code",
   "execution_count": 9,
   "metadata": {},
   "outputs": [],
   "source": [
    "def R2 (y_pred,y_test):\n",
    "         return 1- ((y_pred - y_test)**2).sum()/((y_test-y_test.mean())**2).sum()"
   ]
  },
  {
   "cell_type": "code",
   "execution_count": 11,
   "metadata": {},
   "outputs": [],
   "source": [
    "def testing_algoritms():\n",
    "    test1 = Knn_w_n()\n",
    "    test2 = Knn()\n",
    "    test3=Knn_w_d()\n",
    "    results  = pd.DataFrame(columns=['k','q','num','dist','mean'])\n",
    "    for i in [0.05,0.1,0.2,0.3,0.4,0.5,0.6,0.7,0.8,0.9]:\n",
    "        for j in [10,15,20,25]:\n",
    "            test1.predict(X_tr, y_tr, X_te, j,q=i)\n",
    "            test2.predict(X_tr, y_tr, X_te, j)\n",
    "            test3.predict(X_tr, y_tr, X_te, j,q=i)\n",
    "            results.loc[len(results)]=[j,i,test1.r2(y_t),test3.r2(y_t),test2.r2(y_t)]\n",
    "    print(results)\n",
    "    return results "
   ]
  },
  {
   "cell_type": "code",
   "execution_count": null,
   "metadata": {},
   "outputs": [],
   "source": [
    "testing_algoritms()"
   ]
  },
  {
   "cell_type": "code",
   "execution_count": 53,
   "metadata": {},
   "outputs": [],
   "source": []
  },
  {
   "cell_type": "code",
   "execution_count": 54,
   "metadata": {},
   "outputs": [],
   "source": []
  },
  {
   "cell_type": "code",
   "execution_count": 59,
   "metadata": {},
   "outputs": [],
   "source": []
  },
  {
   "cell_type": "code",
   "execution_count": null,
   "metadata": {},
   "outputs": [],
   "source": []
  },
  {
   "cell_type": "code",
   "execution_count": null,
   "metadata": {},
   "outputs": [],
   "source": []
  },
  {
   "cell_type": "code",
   "execution_count": null,
   "metadata": {},
   "outputs": [],
   "source": []
  },
  {
   "cell_type": "code",
   "execution_count": null,
   "metadata": {},
   "outputs": [],
   "source": []
  },
  {
   "cell_type": "code",
   "execution_count": null,
   "metadata": {},
   "outputs": [],
   "source": []
  },
  {
   "cell_type": "code",
   "execution_count": null,
   "metadata": {},
   "outputs": [],
   "source": []
  },
  {
   "cell_type": "code",
   "execution_count": null,
   "metadata": {},
   "outputs": [],
   "source": []
  },
  {
   "cell_type": "code",
   "execution_count": null,
   "metadata": {},
   "outputs": [],
   "source": []
  }
 ],
 "metadata": {
  "kernelspec": {
   "display_name": "Python 3",
   "language": "python",
   "name": "python3"
  },
  "language_info": {
   "codemirror_mode": {
    "name": "ipython",
    "version": 3
   },
   "file_extension": ".py",
   "mimetype": "text/x-python",
   "name": "python",
   "nbconvert_exporter": "python",
   "pygments_lexer": "ipython3",
   "version": "3.8.3"
  }
 },
 "nbformat": 4,
 "nbformat_minor": 4
}
